{
 "cells": [
  {
   "cell_type": "code",
   "execution_count": 5,
   "metadata": {
    "id": "keml4r21fEWr",
    "scrolled": false
   },
   "outputs": [
    {
     "name": "stdout",
     "output_type": "stream",
     "text": [
      "'BUSD'\n"
     ]
    },
    {
     "ename": "InvalidNonce",
     "evalue": "binance {\"code\":-1021,\"msg\":\"Timestamp for this request is outside of the recvWindow.\"}",
     "output_type": "error",
     "traceback": [
      "\u001b[1;31m---------------------------------------------------------------------------\u001b[0m",
      "\u001b[1;31mHTTPError\u001b[0m                                 Traceback (most recent call last)",
      "\u001b[1;32m~\\AppData\\Roaming\\Python\\Python38\\site-packages\\ccxt\\base\\exchange.py\u001b[0m in \u001b[0;36mfetch\u001b[1;34m(self, url, method, headers, body)\u001b[0m\n\u001b[0;32m    592\u001b[0m             \u001b[0mself\u001b[0m\u001b[1;33m.\u001b[0m\u001b[0mlogger\u001b[0m\u001b[1;33m.\u001b[0m\u001b[0mdebug\u001b[0m\u001b[1;33m(\u001b[0m\u001b[1;34m\"%s %s, Response: %s %s %s\"\u001b[0m\u001b[1;33m,\u001b[0m \u001b[0mmethod\u001b[0m\u001b[1;33m,\u001b[0m \u001b[0murl\u001b[0m\u001b[1;33m,\u001b[0m \u001b[0mhttp_status_code\u001b[0m\u001b[1;33m,\u001b[0m \u001b[0mheaders\u001b[0m\u001b[1;33m,\u001b[0m \u001b[0mhttp_response\u001b[0m\u001b[1;33m)\u001b[0m\u001b[1;33m\u001b[0m\u001b[1;33m\u001b[0m\u001b[0m\n\u001b[1;32m--> 593\u001b[1;33m             \u001b[0mresponse\u001b[0m\u001b[1;33m.\u001b[0m\u001b[0mraise_for_status\u001b[0m\u001b[1;33m(\u001b[0m\u001b[1;33m)\u001b[0m\u001b[1;33m\u001b[0m\u001b[1;33m\u001b[0m\u001b[0m\n\u001b[0m\u001b[0;32m    594\u001b[0m \u001b[1;33m\u001b[0m\u001b[0m\n",
      "\u001b[1;32m~\\AppData\\Roaming\\Python\\Python38\\site-packages\\requests\\models.py\u001b[0m in \u001b[0;36mraise_for_status\u001b[1;34m(self)\u001b[0m\n\u001b[0;32m    942\u001b[0m         \u001b[1;32mif\u001b[0m \u001b[0mhttp_error_msg\u001b[0m\u001b[1;33m:\u001b[0m\u001b[1;33m\u001b[0m\u001b[1;33m\u001b[0m\u001b[0m\n\u001b[1;32m--> 943\u001b[1;33m             \u001b[1;32mraise\u001b[0m \u001b[0mHTTPError\u001b[0m\u001b[1;33m(\u001b[0m\u001b[0mhttp_error_msg\u001b[0m\u001b[1;33m,\u001b[0m \u001b[0mresponse\u001b[0m\u001b[1;33m=\u001b[0m\u001b[0mself\u001b[0m\u001b[1;33m)\u001b[0m\u001b[1;33m\u001b[0m\u001b[1;33m\u001b[0m\u001b[0m\n\u001b[0m\u001b[0;32m    944\u001b[0m \u001b[1;33m\u001b[0m\u001b[0m\n",
      "\u001b[1;31mHTTPError\u001b[0m: 400 Client Error: Bad Request for url: https://api.binance.com/api/v3/account?timestamp=1636670407612&recvWindow=5000&signature=c9492789179f648b6015d98efa8252e4fde7daccb5c37aeb1ef9a0bc3cc5ab7f",
      "\nDuring handling of the above exception, another exception occurred:\n",
      "\u001b[1;31mInvalidNonce\u001b[0m                              Traceback (most recent call last)",
      "\u001b[1;32m<ipython-input-5-412358814f12>\u001b[0m in \u001b[0;36m<module>\u001b[1;34m\u001b[0m\n\u001b[0;32m     95\u001b[0m \u001b[1;33m\u001b[0m\u001b[0m\n\u001b[0;32m     96\u001b[0m \u001b[1;32mwhile\u001b[0m \u001b[1;32mTrue\u001b[0m\u001b[1;33m:\u001b[0m\u001b[1;33m\u001b[0m\u001b[1;33m\u001b[0m\u001b[0m\n\u001b[1;32m---> 97\u001b[1;33m     \u001b[0mrebalance\u001b[0m\u001b[1;33m(\u001b[0m\u001b[1;33m)\u001b[0m\u001b[1;33m\u001b[0m\u001b[1;33m\u001b[0m\u001b[0m\n\u001b[0m\u001b[0;32m     98\u001b[0m     \u001b[0mtime\u001b[0m\u001b[1;33m.\u001b[0m\u001b[0msleep\u001b[0m\u001b[1;33m(\u001b[0m\u001b[1;36m30\u001b[0m\u001b[1;33m)\u001b[0m\u001b[1;33m\u001b[0m\u001b[1;33m\u001b[0m\u001b[0m\n",
      "\u001b[1;32m<ipython-input-5-412358814f12>\u001b[0m in \u001b[0;36mrebalance\u001b[1;34m()\u001b[0m\n\u001b[0;32m     37\u001b[0m \u001b[1;31m#----------------------------------------------------------------\u001b[0m\u001b[1;33m\u001b[0m\u001b[1;33m\u001b[0m\u001b[1;33m\u001b[0m\u001b[0m\n\u001b[0;32m     38\u001b[0m     \u001b[0mpprint\u001b[0m\u001b[1;33m(\u001b[0m\u001b[0mMybalance\u001b[0m\u001b[1;33m)\u001b[0m\u001b[1;33m\u001b[0m\u001b[1;33m\u001b[0m\u001b[0m\n\u001b[1;32m---> 39\u001b[1;33m     \u001b[0mpprint\u001b[0m\u001b[1;33m(\u001b[0m\u001b[0mbi\u001b[0m\u001b[1;33m.\u001b[0m\u001b[0mfetch_balance\u001b[0m\u001b[1;33m(\u001b[0m\u001b[1;33m)\u001b[0m\u001b[1;33m[\u001b[0m\u001b[0mMybalance\u001b[0m\u001b[1;33m]\u001b[0m\u001b[1;33m[\u001b[0m\u001b[1;34m'total'\u001b[0m\u001b[1;33m]\u001b[0m\u001b[1;33m)\u001b[0m \u001b[1;31m#เรียกดูยอด balance ของพอร์ต\u001b[0m\u001b[1;33m\u001b[0m\u001b[1;33m\u001b[0m\u001b[0m\n\u001b[0m\u001b[0;32m     40\u001b[0m \u001b[1;33m\u001b[0m\u001b[0m\n\u001b[0;32m     41\u001b[0m \u001b[1;33m\u001b[0m\u001b[0m\n",
      "\u001b[1;32m~\\AppData\\Roaming\\Python\\Python38\\site-packages\\ccxt\\binance.py\u001b[0m in \u001b[0;36mfetch_balance\u001b[1;34m(self, params)\u001b[0m\n\u001b[0;32m   1081\u001b[0m             \u001b[0mmethod\u001b[0m \u001b[1;33m=\u001b[0m \u001b[1;34m'sapiGetMarginAccount'\u001b[0m\u001b[1;33m\u001b[0m\u001b[1;33m\u001b[0m\u001b[0m\n\u001b[0;32m   1082\u001b[0m         \u001b[0mquery\u001b[0m \u001b[1;33m=\u001b[0m \u001b[0mself\u001b[0m\u001b[1;33m.\u001b[0m\u001b[0momit\u001b[0m\u001b[1;33m(\u001b[0m\u001b[0mparams\u001b[0m\u001b[1;33m,\u001b[0m \u001b[1;34m'type'\u001b[0m\u001b[1;33m)\u001b[0m\u001b[1;33m\u001b[0m\u001b[1;33m\u001b[0m\u001b[0m\n\u001b[1;32m-> 1083\u001b[1;33m         \u001b[0mresponse\u001b[0m \u001b[1;33m=\u001b[0m \u001b[0mgetattr\u001b[0m\u001b[1;33m(\u001b[0m\u001b[0mself\u001b[0m\u001b[1;33m,\u001b[0m \u001b[0mmethod\u001b[0m\u001b[1;33m)\u001b[0m\u001b[1;33m(\u001b[0m\u001b[0mquery\u001b[0m\u001b[1;33m)\u001b[0m\u001b[1;33m\u001b[0m\u001b[1;33m\u001b[0m\u001b[0m\n\u001b[0m\u001b[0;32m   1084\u001b[0m         \u001b[1;31m#\u001b[0m\u001b[1;33m\u001b[0m\u001b[1;33m\u001b[0m\u001b[1;33m\u001b[0m\u001b[0m\n\u001b[0;32m   1085\u001b[0m         \u001b[1;31m# spot\u001b[0m\u001b[1;33m\u001b[0m\u001b[1;33m\u001b[0m\u001b[1;33m\u001b[0m\u001b[0m\n",
      "\u001b[1;32m~\\AppData\\Roaming\\Python\\Python38\\site-packages\\ccxt\\base\\exchange.py\u001b[0m in \u001b[0;36minner\u001b[1;34m(_self, params)\u001b[0m\n\u001b[0;32m    459\u001b[0m                             \u001b[1;32mif\u001b[0m \u001b[0mparams\u001b[0m \u001b[1;32mis\u001b[0m \u001b[1;32mnot\u001b[0m \u001b[1;32mNone\u001b[0m\u001b[1;33m:\u001b[0m\u001b[1;33m\u001b[0m\u001b[1;33m\u001b[0m\u001b[0m\n\u001b[0;32m    460\u001b[0m                                 \u001b[0minner_kwargs\u001b[0m\u001b[1;33m[\u001b[0m\u001b[1;34m'params'\u001b[0m\u001b[1;33m]\u001b[0m \u001b[1;33m=\u001b[0m \u001b[0mparams\u001b[0m\u001b[1;33m\u001b[0m\u001b[1;33m\u001b[0m\u001b[0m\n\u001b[1;32m--> 461\u001b[1;33m                             \u001b[1;32mreturn\u001b[0m \u001b[0mentry\u001b[0m\u001b[1;33m(\u001b[0m\u001b[0m_self\u001b[0m\u001b[1;33m,\u001b[0m \u001b[1;33m**\u001b[0m\u001b[0minner_kwargs\u001b[0m\u001b[1;33m)\u001b[0m\u001b[1;33m\u001b[0m\u001b[1;33m\u001b[0m\u001b[0m\n\u001b[0m\u001b[0;32m    462\u001b[0m                         \u001b[1;32mreturn\u001b[0m \u001b[0minner\u001b[0m\u001b[1;33m\u001b[0m\u001b[1;33m\u001b[0m\u001b[0m\n\u001b[0;32m    463\u001b[0m                     \u001b[0mto_bind\u001b[0m \u001b[1;33m=\u001b[0m \u001b[0mpartialer\u001b[0m\u001b[1;33m(\u001b[0m\u001b[1;33m)\u001b[0m\u001b[1;33m\u001b[0m\u001b[1;33m\u001b[0m\u001b[0m\n",
      "\u001b[1;32m~\\AppData\\Roaming\\Python\\Python38\\site-packages\\ccxt\\binance.py\u001b[0m in \u001b[0;36mrequest\u001b[1;34m(self, path, api, method, params, headers, body)\u001b[0m\n\u001b[0;32m   2974\u001b[0m \u001b[1;33m\u001b[0m\u001b[0m\n\u001b[0;32m   2975\u001b[0m     \u001b[1;32mdef\u001b[0m \u001b[0mrequest\u001b[0m\u001b[1;33m(\u001b[0m\u001b[0mself\u001b[0m\u001b[1;33m,\u001b[0m \u001b[0mpath\u001b[0m\u001b[1;33m,\u001b[0m \u001b[0mapi\u001b[0m\u001b[1;33m=\u001b[0m\u001b[1;34m'public'\u001b[0m\u001b[1;33m,\u001b[0m \u001b[0mmethod\u001b[0m\u001b[1;33m=\u001b[0m\u001b[1;34m'GET'\u001b[0m\u001b[1;33m,\u001b[0m \u001b[0mparams\u001b[0m\u001b[1;33m=\u001b[0m\u001b[1;33m{\u001b[0m\u001b[1;33m}\u001b[0m\u001b[1;33m,\u001b[0m \u001b[0mheaders\u001b[0m\u001b[1;33m=\u001b[0m\u001b[1;32mNone\u001b[0m\u001b[1;33m,\u001b[0m \u001b[0mbody\u001b[0m\u001b[1;33m=\u001b[0m\u001b[1;32mNone\u001b[0m\u001b[1;33m)\u001b[0m\u001b[1;33m:\u001b[0m\u001b[1;33m\u001b[0m\u001b[1;33m\u001b[0m\u001b[0m\n\u001b[1;32m-> 2976\u001b[1;33m         \u001b[0mresponse\u001b[0m \u001b[1;33m=\u001b[0m \u001b[0mself\u001b[0m\u001b[1;33m.\u001b[0m\u001b[0mfetch2\u001b[0m\u001b[1;33m(\u001b[0m\u001b[0mpath\u001b[0m\u001b[1;33m,\u001b[0m \u001b[0mapi\u001b[0m\u001b[1;33m,\u001b[0m \u001b[0mmethod\u001b[0m\u001b[1;33m,\u001b[0m \u001b[0mparams\u001b[0m\u001b[1;33m,\u001b[0m \u001b[0mheaders\u001b[0m\u001b[1;33m,\u001b[0m \u001b[0mbody\u001b[0m\u001b[1;33m)\u001b[0m\u001b[1;33m\u001b[0m\u001b[1;33m\u001b[0m\u001b[0m\n\u001b[0m\u001b[0;32m   2977\u001b[0m         \u001b[1;31m# a workaround for {\"code\":-2015,\"msg\":\"Invalid API-key, IP, or permissions for action.\"}\u001b[0m\u001b[1;33m\u001b[0m\u001b[1;33m\u001b[0m\u001b[1;33m\u001b[0m\u001b[0m\n\u001b[0;32m   2978\u001b[0m         \u001b[1;32mif\u001b[0m \u001b[1;33m(\u001b[0m\u001b[0mapi\u001b[0m \u001b[1;33m==\u001b[0m \u001b[1;34m'private'\u001b[0m\u001b[1;33m)\u001b[0m \u001b[1;32mor\u001b[0m \u001b[1;33m(\u001b[0m\u001b[0mapi\u001b[0m \u001b[1;33m==\u001b[0m \u001b[1;34m'wapi'\u001b[0m\u001b[1;33m)\u001b[0m\u001b[1;33m:\u001b[0m\u001b[1;33m\u001b[0m\u001b[1;33m\u001b[0m\u001b[0m\n",
      "\u001b[1;32m~\\AppData\\Roaming\\Python\\Python38\\site-packages\\ccxt\\base\\exchange.py\u001b[0m in \u001b[0;36mfetch2\u001b[1;34m(self, path, api, method, params, headers, body)\u001b[0m\n\u001b[0;32m    480\u001b[0m         \u001b[0mself\u001b[0m\u001b[1;33m.\u001b[0m\u001b[0mlastRestRequestTimestamp\u001b[0m \u001b[1;33m=\u001b[0m \u001b[0mself\u001b[0m\u001b[1;33m.\u001b[0m\u001b[0mmilliseconds\u001b[0m\u001b[1;33m(\u001b[0m\u001b[1;33m)\u001b[0m\u001b[1;33m\u001b[0m\u001b[1;33m\u001b[0m\u001b[0m\n\u001b[0;32m    481\u001b[0m         \u001b[0mrequest\u001b[0m \u001b[1;33m=\u001b[0m \u001b[0mself\u001b[0m\u001b[1;33m.\u001b[0m\u001b[0msign\u001b[0m\u001b[1;33m(\u001b[0m\u001b[0mpath\u001b[0m\u001b[1;33m,\u001b[0m \u001b[0mapi\u001b[0m\u001b[1;33m,\u001b[0m \u001b[0mmethod\u001b[0m\u001b[1;33m,\u001b[0m \u001b[0mparams\u001b[0m\u001b[1;33m,\u001b[0m \u001b[0mheaders\u001b[0m\u001b[1;33m,\u001b[0m \u001b[0mbody\u001b[0m\u001b[1;33m)\u001b[0m\u001b[1;33m\u001b[0m\u001b[1;33m\u001b[0m\u001b[0m\n\u001b[1;32m--> 482\u001b[1;33m         \u001b[1;32mreturn\u001b[0m \u001b[0mself\u001b[0m\u001b[1;33m.\u001b[0m\u001b[0mfetch\u001b[0m\u001b[1;33m(\u001b[0m\u001b[0mrequest\u001b[0m\u001b[1;33m[\u001b[0m\u001b[1;34m'url'\u001b[0m\u001b[1;33m]\u001b[0m\u001b[1;33m,\u001b[0m \u001b[0mrequest\u001b[0m\u001b[1;33m[\u001b[0m\u001b[1;34m'method'\u001b[0m\u001b[1;33m]\u001b[0m\u001b[1;33m,\u001b[0m \u001b[0mrequest\u001b[0m\u001b[1;33m[\u001b[0m\u001b[1;34m'headers'\u001b[0m\u001b[1;33m]\u001b[0m\u001b[1;33m,\u001b[0m \u001b[0mrequest\u001b[0m\u001b[1;33m[\u001b[0m\u001b[1;34m'body'\u001b[0m\u001b[1;33m]\u001b[0m\u001b[1;33m)\u001b[0m\u001b[1;33m\u001b[0m\u001b[1;33m\u001b[0m\u001b[0m\n\u001b[0m\u001b[0;32m    483\u001b[0m \u001b[1;33m\u001b[0m\u001b[0m\n\u001b[0;32m    484\u001b[0m     \u001b[1;32mdef\u001b[0m \u001b[0mrequest\u001b[0m\u001b[1;33m(\u001b[0m\u001b[0mself\u001b[0m\u001b[1;33m,\u001b[0m \u001b[0mpath\u001b[0m\u001b[1;33m,\u001b[0m \u001b[0mapi\u001b[0m\u001b[1;33m=\u001b[0m\u001b[1;34m'public'\u001b[0m\u001b[1;33m,\u001b[0m \u001b[0mmethod\u001b[0m\u001b[1;33m=\u001b[0m\u001b[1;34m'GET'\u001b[0m\u001b[1;33m,\u001b[0m \u001b[0mparams\u001b[0m\u001b[1;33m=\u001b[0m\u001b[1;33m{\u001b[0m\u001b[1;33m}\u001b[0m\u001b[1;33m,\u001b[0m \u001b[0mheaders\u001b[0m\u001b[1;33m=\u001b[0m\u001b[1;32mNone\u001b[0m\u001b[1;33m,\u001b[0m \u001b[0mbody\u001b[0m\u001b[1;33m=\u001b[0m\u001b[1;32mNone\u001b[0m\u001b[1;33m)\u001b[0m\u001b[1;33m:\u001b[0m\u001b[1;33m\u001b[0m\u001b[1;33m\u001b[0m\u001b[0m\n",
      "\u001b[1;32m~\\AppData\\Roaming\\Python\\Python38\\site-packages\\ccxt\\base\\exchange.py\u001b[0m in \u001b[0;36mfetch\u001b[1;34m(self, url, method, headers, body)\u001b[0m\n\u001b[0;32m    607\u001b[0m         \u001b[1;32mexcept\u001b[0m \u001b[0mHTTPError\u001b[0m \u001b[1;32mas\u001b[0m \u001b[0me\u001b[0m\u001b[1;33m:\u001b[0m\u001b[1;33m\u001b[0m\u001b[1;33m\u001b[0m\u001b[0m\n\u001b[0;32m    608\u001b[0m             \u001b[0mdetails\u001b[0m \u001b[1;33m=\u001b[0m \u001b[1;34m' '\u001b[0m\u001b[1;33m.\u001b[0m\u001b[0mjoin\u001b[0m\u001b[1;33m(\u001b[0m\u001b[1;33m[\u001b[0m\u001b[0mself\u001b[0m\u001b[1;33m.\u001b[0m\u001b[0mid\u001b[0m\u001b[1;33m,\u001b[0m \u001b[0mmethod\u001b[0m\u001b[1;33m,\u001b[0m \u001b[0murl\u001b[0m\u001b[1;33m]\u001b[0m\u001b[1;33m)\u001b[0m\u001b[1;33m\u001b[0m\u001b[1;33m\u001b[0m\u001b[0m\n\u001b[1;32m--> 609\u001b[1;33m             \u001b[0mself\u001b[0m\u001b[1;33m.\u001b[0m\u001b[0mhandle_errors\u001b[0m\u001b[1;33m(\u001b[0m\u001b[0mhttp_status_code\u001b[0m\u001b[1;33m,\u001b[0m \u001b[0mhttp_status_text\u001b[0m\u001b[1;33m,\u001b[0m \u001b[0murl\u001b[0m\u001b[1;33m,\u001b[0m \u001b[0mmethod\u001b[0m\u001b[1;33m,\u001b[0m \u001b[0mheaders\u001b[0m\u001b[1;33m,\u001b[0m \u001b[0mhttp_response\u001b[0m\u001b[1;33m,\u001b[0m \u001b[0mjson_response\u001b[0m\u001b[1;33m,\u001b[0m \u001b[0mrequest_headers\u001b[0m\u001b[1;33m,\u001b[0m \u001b[0mrequest_body\u001b[0m\u001b[1;33m)\u001b[0m\u001b[1;33m\u001b[0m\u001b[1;33m\u001b[0m\u001b[0m\n\u001b[0m\u001b[0;32m    610\u001b[0m             \u001b[0mself\u001b[0m\u001b[1;33m.\u001b[0m\u001b[0mhandle_http_status_code\u001b[0m\u001b[1;33m(\u001b[0m\u001b[0mhttp_status_code\u001b[0m\u001b[1;33m,\u001b[0m \u001b[0mhttp_status_text\u001b[0m\u001b[1;33m,\u001b[0m \u001b[0murl\u001b[0m\u001b[1;33m,\u001b[0m \u001b[0mmethod\u001b[0m\u001b[1;33m,\u001b[0m \u001b[0mhttp_response\u001b[0m\u001b[1;33m)\u001b[0m\u001b[1;33m\u001b[0m\u001b[1;33m\u001b[0m\u001b[0m\n\u001b[0;32m    611\u001b[0m             \u001b[1;32mraise\u001b[0m \u001b[0mExchangeError\u001b[0m\u001b[1;33m(\u001b[0m\u001b[0mdetails\u001b[0m\u001b[1;33m)\u001b[0m \u001b[1;32mfrom\u001b[0m \u001b[0me\u001b[0m\u001b[1;33m\u001b[0m\u001b[1;33m\u001b[0m\u001b[0m\n",
      "\u001b[1;32m~\\AppData\\Roaming\\Python\\Python38\\site-packages\\ccxt\\binance.py\u001b[0m in \u001b[0;36mhandle_errors\u001b[1;34m(self, code, reason, url, method, headers, body, response, requestHeaders, requestBody)\u001b[0m\n\u001b[0;32m   2968\u001b[0m                 \u001b[1;32mraise\u001b[0m \u001b[0mDDoSProtection\u001b[0m\u001b[1;33m(\u001b[0m\u001b[0mself\u001b[0m\u001b[1;33m.\u001b[0m\u001b[0mid\u001b[0m \u001b[1;33m+\u001b[0m \u001b[1;34m' temporary banned: '\u001b[0m \u001b[1;33m+\u001b[0m \u001b[0mbody\u001b[0m\u001b[1;33m)\u001b[0m\u001b[1;33m\u001b[0m\u001b[1;33m\u001b[0m\u001b[0m\n\u001b[0;32m   2969\u001b[0m             \u001b[0mfeedback\u001b[0m \u001b[1;33m=\u001b[0m \u001b[0mself\u001b[0m\u001b[1;33m.\u001b[0m\u001b[0mid\u001b[0m \u001b[1;33m+\u001b[0m \u001b[1;34m' '\u001b[0m \u001b[1;33m+\u001b[0m \u001b[0mbody\u001b[0m\u001b[1;33m\u001b[0m\u001b[1;33m\u001b[0m\u001b[0m\n\u001b[1;32m-> 2970\u001b[1;33m             \u001b[0mself\u001b[0m\u001b[1;33m.\u001b[0m\u001b[0mthrow_exactly_matched_exception\u001b[0m\u001b[1;33m(\u001b[0m\u001b[0mself\u001b[0m\u001b[1;33m.\u001b[0m\u001b[0mexceptions\u001b[0m\u001b[1;33m,\u001b[0m \u001b[0merror\u001b[0m\u001b[1;33m,\u001b[0m \u001b[0mfeedback\u001b[0m\u001b[1;33m)\u001b[0m\u001b[1;33m\u001b[0m\u001b[1;33m\u001b[0m\u001b[0m\n\u001b[0m\u001b[0;32m   2971\u001b[0m             \u001b[1;32mraise\u001b[0m \u001b[0mExchangeError\u001b[0m\u001b[1;33m(\u001b[0m\u001b[0mfeedback\u001b[0m\u001b[1;33m)\u001b[0m\u001b[1;33m\u001b[0m\u001b[1;33m\u001b[0m\u001b[0m\n\u001b[0;32m   2972\u001b[0m         \u001b[1;32mif\u001b[0m \u001b[1;32mnot\u001b[0m \u001b[0msuccess\u001b[0m\u001b[1;33m:\u001b[0m\u001b[1;33m\u001b[0m\u001b[1;33m\u001b[0m\u001b[0m\n",
      "\u001b[1;32m~\\AppData\\Roaming\\Python\\Python38\\site-packages\\ccxt\\base\\exchange.py\u001b[0m in \u001b[0;36mthrow_exactly_matched_exception\u001b[1;34m(self, exact, string, message)\u001b[0m\n\u001b[0;32m    498\u001b[0m     \u001b[1;32mdef\u001b[0m \u001b[0mthrow_exactly_matched_exception\u001b[0m\u001b[1;33m(\u001b[0m\u001b[0mself\u001b[0m\u001b[1;33m,\u001b[0m \u001b[0mexact\u001b[0m\u001b[1;33m,\u001b[0m \u001b[0mstring\u001b[0m\u001b[1;33m,\u001b[0m \u001b[0mmessage\u001b[0m\u001b[1;33m)\u001b[0m\u001b[1;33m:\u001b[0m\u001b[1;33m\u001b[0m\u001b[1;33m\u001b[0m\u001b[0m\n\u001b[0;32m    499\u001b[0m         \u001b[1;32mif\u001b[0m \u001b[0mstring\u001b[0m \u001b[1;32min\u001b[0m \u001b[0mexact\u001b[0m\u001b[1;33m:\u001b[0m\u001b[1;33m\u001b[0m\u001b[1;33m\u001b[0m\u001b[0m\n\u001b[1;32m--> 500\u001b[1;33m             \u001b[1;32mraise\u001b[0m \u001b[0mexact\u001b[0m\u001b[1;33m[\u001b[0m\u001b[0mstring\u001b[0m\u001b[1;33m]\u001b[0m\u001b[1;33m(\u001b[0m\u001b[0mmessage\u001b[0m\u001b[1;33m)\u001b[0m\u001b[1;33m\u001b[0m\u001b[1;33m\u001b[0m\u001b[0m\n\u001b[0m\u001b[0;32m    501\u001b[0m \u001b[1;33m\u001b[0m\u001b[0m\n\u001b[0;32m    502\u001b[0m     \u001b[1;32mdef\u001b[0m \u001b[0mthrow_broadly_matched_exception\u001b[0m\u001b[1;33m(\u001b[0m\u001b[0mself\u001b[0m\u001b[1;33m,\u001b[0m \u001b[0mbroad\u001b[0m\u001b[1;33m,\u001b[0m \u001b[0mstring\u001b[0m\u001b[1;33m,\u001b[0m \u001b[0mmessage\u001b[0m\u001b[1;33m)\u001b[0m\u001b[1;33m:\u001b[0m\u001b[1;33m\u001b[0m\u001b[1;33m\u001b[0m\u001b[0m\n",
      "\u001b[1;31mInvalidNonce\u001b[0m: binance {\"code\":-1021,\"msg\":\"Timestamp for this request is outside of the recvWindow.\"}"
     ]
    }
   ],
   "source": [
    "import time\n",
    "import schedule\n",
    " \n",
    "def rebalance():\n",
    " \n",
    "    from pprint import pprint\n",
    " \n",
    "    from songline import Sendline #ส่งไลน์\n",
    "    token = '2yEUtrnlOlhOXyykmwnlqmtn00qJ8SfqoXRSS6xSr6R'\n",
    "    messenger = Sendline(token)\n",
    " \n",
    "    import ccxt\n",
    "    # print(ccxt.exchanges) # print a list of all available exchange classes\n",
    "    api_key = 'NOTxIL5I6NYFZFvRXUnXzN2gipY8YzKNtGip4OGTgWiscfJG2HyFvrd9qaILAHSf'\n",
    "    api_secret = '1RQHPVXCLFGeoN3TcDJxYhitXbJ5zztM2p16N8BtmMS1E2T9iRHSVwqtzMWvQN73'\n",
    "    bi = ccxt.binance({\n",
    "        'api_key': api_key,\n",
    "        'secret': api_secret})\n",
    "        \n",
    " \n",
    "    # pprint(bi.fetch_markets()[0]['baseId'])  # ปริ๊นมาเก็ต ข้อมูลเป็นlist [0] คือเลือก index ลำดับที่ 1 ข้อมูล ['base']\n",
    "#--------------กำหนดค่า ของ CRYPTO-----------------------------------\n",
    "    # in market\n",
    "    cryptoA_SYM = 'SHIB/BUSD'  # cryptoA\n",
    "    \n",
    " \n",
    "    # in my port\n",
    "    Mybalance = 'BUSD'\n",
    "    percentage_sell = 5\n",
    "    take_profit = 11\n",
    "    percentage = 12\n",
    " \n",
    "    cryptoA = 'SHIB'\n",
    "    fix_cryptoA_value: float = 450\n",
    " \n",
    "    \n",
    "#----------------------------------------------------------------\n",
    "    pprint(Mybalance)\n",
    "    pprint(bi.fetch_balance()[Mybalance]['total']) #เรียกดูยอด balance ของพอร์ต\n",
    " \n",
    " \n",
    "   \n",
    "    \n",
    "    print('--------------')\n",
    " \n",
    "    # crypto1 = 'SHIB/USDT'\n",
    "    cryptomarket = (\n",
    "    bi.fetch_ticker(cryptoA_SYM)['symbol'])  # เรียกดูราคา ของ vet/try #crypto = (bi.fetch_ticker('BTT/USDT')['symbol'])\n",
    "    pprint(cryptomarket)\n",
    "    lastpriceA = (bi.fetch_ticker(cryptoA_SYM)['last'])  # เรียกดูราคา ของ vet/try\n",
    "    # pprint(type(lastprice))ดูชนิดข้อมูล\n",
    "    print(f'ราคาล่าสุด {lastpriceA :.10f} usd')\n",
    "    #pprint(lastpriceA)\n",
    " \n",
    "    cryptoBalanceA = (bi.fetch_balance({})[cryptoA]['total'])\n",
    "    # pprint(type(cryptoA))\n",
    "    print(f'จำนวน {cryptoBalanceA}')\n",
    " \n",
    "    cryptoA_value = '%.2f' %(lastpriceA * cryptoBalanceA)\n",
    "    print(f'มูลค่า {cryptoA_value} usd')\n",
    " \n",
    "    if float(cryptoA_value) < (fix_cryptoA_value - percentage):\n",
    "        amout = float(fix_cryptoA_value) - float(cryptoA_value)\n",
    "        volume_buy = '%.0f' %(percentage/lastpriceA)\n",
    "        print(f'ซื้อเข้า {percentage} usd')\n",
    "        print(f'จำนวน {volume_buy}')\n",
    "        #print(now,'Buy XRP/USD')\n",
    " \n",
    "        bi.create_order(cryptoA_SYM,'limit','buy',volume_buy,lastpriceA)\n",
    " \n",
    "        \n",
    "        messenger.sendtext(f'ซื้อเข้า {cryptoA_SYM} ราคา {lastpriceA :.10f} มูลค่า {cryptoA_value} ติดลบ {amout} usd')\n",
    " \n",
    "    elif float(cryptoA_value) > float((fix_cryptoA_value) + (percentage_sell)):\n",
    "        amout = float(cryptoA_value) - float(fix_cryptoA_value)\n",
    "        volume_sell = '%.0f' %(take_profit /lastpriceA)\n",
    "        print(f'ขายออก  {take_profit } usd')\n",
    "        print(f'จำนวน  {volume_sell}')\n",
    " \n",
    "        print(bi.create_limit_sell_order(cryptoA_SYM,volume_sell,lastpriceA))\n",
    " \n",
    "        messenger.sendtext(f'ขายออก {cryptoA_SYM} ราคา {lastpriceA :.10f} มูลค่า {cryptoA_value} กำไร {amout} usd')\n",
    "    else:\n",
    "        #port_value = cryptoA_value - fix_cryptoA_value\n",
    "        #print(f'กำไร {port_value} $')\n",
    "        print('Do not Thing')\n",
    "        print(f'ราคาขายออก ทำกำไร  {((fix_cryptoA_value) + (percentage_sell))/cryptoBalanceA :.10f} usd')\n",
    "        print(f'ราคาซื้อเข้า Rebalance  {((fix_cryptoA_value - percentage))/cryptoBalanceA :.10f} usd')\n",
    "        #messenger.sendtext(f'{cryptoA_SYM} มูลค่าตลาด {cryptoA_value} มูลค่าพอร์ต {port_value} usd <<Do not thing>>')\n",
    "        \n",
    "        \n",
    "        \n",
    "    print('--------------------') \n",
    " \n",
    "   \n",
    "while True:\n",
    "    rebalance()\n",
    "    time.sleep(30)"
   ]
  },
  {
   "cell_type": "code",
   "execution_count": 3,
   "metadata": {
    "id": "LavokKTefEW2",
    "scrolled": true
   },
   "outputs": [
    {
     "name": "stdout",
     "output_type": "stream",
     "text": [
      "Requirement already satisfied: ccxt in c:\\users\\nayboy\\appdata\\roaming\\python\\python38\\site-packages (1.49.58)\n",
      "Requirement already satisfied: requests>=2.18.4 in c:\\users\\nayboy\\appdata\\roaming\\python\\python38\\site-packages (from ccxt) (2.25.1)\n",
      "Requirement already satisfied: aiodns<2.1,>=1.1.1 in c:\\users\\nayboy\\appdata\\roaming\\python\\python38\\site-packages (from ccxt) (2.0.0)\n",
      "Requirement already satisfied: setuptools>=38.5.1 in c:\\programdata\\anaconda3\\lib\\site-packages (from ccxt) (50.3.1.post20201107)\n",
      "Requirement already satisfied: certifi>=2018.1.18 in c:\\users\\nayboy\\appdata\\roaming\\python\\python38\\site-packages (from ccxt) (2020.12.5)\n",
      "Requirement already satisfied: cryptography>=2.6.1 in c:\\users\\nayboy\\appdata\\roaming\\python\\python38\\site-packages (from ccxt) (3.4.7)\n",
      "Requirement already satisfied: aiohttp<3.8,>=3.7.4 in c:\\users\\nayboy\\appdata\\roaming\\python\\python38\\site-packages (from ccxt) (3.7.4.post0)\n",
      "Requirement already satisfied: yarl==1.6.3 in c:\\users\\nayboy\\appdata\\roaming\\python\\python38\\site-packages (from ccxt) (1.6.3)\n",
      "Requirement already satisfied: idna>=2.0 in c:\\users\\nayboy\\appdata\\roaming\\python\\python38\\site-packages (from yarl==1.6.3->ccxt) (2.10)\n",
      "Requirement already satisfied: multidict>=4.0 in c:\\users\\nayboy\\appdata\\roaming\\python\\python38\\site-packages (from yarl==1.6.3->ccxt) (5.1.0)\n",
      "Requirement already satisfied: pycares>=3.0.0 in c:\\users\\nayboy\\appdata\\roaming\\python\\python38\\site-packages (from aiodns<2.1,>=1.1.1->ccxt) (3.1.1)\n",
      "Requirement already satisfied: attrs>=17.3.0 in c:\\users\\nayboy\\appdata\\roaming\\python\\python38\\site-packages (from aiohttp<3.8,>=3.7.4->ccxt) (21.1.0)\n",
      "Requirement already satisfied: chardet<5.0,>=2.0 in c:\\users\\nayboy\\appdata\\roaming\\python\\python38\\site-packages (from aiohttp<3.8,>=3.7.4->ccxt) (4.0.0)\n",
      "Requirement already satisfied: async-timeout<4.0,>=3.0 in c:\\users\\nayboy\\appdata\\roaming\\python\\python38\\site-packages (from aiohttp<3.8,>=3.7.4->ccxt) (3.0.1)\n",
      "Requirement already satisfied: typing-extensions>=3.6.5 in c:\\users\\nayboy\\appdata\\roaming\\python\\python38\\site-packages (from aiohttp<3.8,>=3.7.4->ccxt) (3.10.0.0)\n",
      "Requirement already satisfied: cffi>=1.12 in c:\\users\\nayboy\\appdata\\roaming\\python\\python38\\site-packages (from cryptography>=2.6.1->ccxt) (1.14.5)\n",
      "Requirement already satisfied: pycparser in c:\\users\\nayboy\\appdata\\roaming\\python\\python38\\site-packages (from cffi>=1.12->cryptography>=2.6.1->ccxt) (2.20)\n",
      "Requirement already satisfied: urllib3<1.27,>=1.21.1 in c:\\users\\nayboy\\appdata\\roaming\\python\\python38\\site-packages (from requests>=2.18.4->ccxt) (1.26.4)\n"
     ]
    },
    {
     "name": "stderr",
     "output_type": "stream",
     "text": [
      "WARNING: You are using pip version 21.1.1; however, version 21.3.1 is available.\n",
      "You should consider upgrading via the 'C:\\ProgramData\\Anaconda3\\python.exe -m pip install --upgrade pip' command.\n"
     ]
    },
    {
     "name": "stdout",
     "output_type": "stream",
     "text": [
      "Requirement already satisfied: schedule in c:\\programdata\\anaconda3\\lib\\site-packages (1.1.0)\n"
     ]
    },
    {
     "name": "stderr",
     "output_type": "stream",
     "text": [
      "WARNING: You are using pip version 21.1.1; however, version 21.3.1 is available.\n",
      "You should consider upgrading via the 'C:\\ProgramData\\Anaconda3\\python.exe -m pip install --upgrade pip' command.\n"
     ]
    },
    {
     "name": "stdout",
     "output_type": "stream",
     "text": [
      "Requirement already satisfied: songline in c:\\users\\nayboy\\appdata\\roaming\\python\\python38\\site-packages (0.0.1)\n",
      "Requirement already satisfied: requests in c:\\users\\nayboy\\appdata\\roaming\\python\\python38\\site-packages (from songline) (2.25.1)\n",
      "Requirement already satisfied: urllib3<1.27,>=1.21.1 in c:\\users\\nayboy\\appdata\\roaming\\python\\python38\\site-packages (from requests->songline) (1.26.4)\n",
      "Requirement already satisfied: idna<3,>=2.5 in c:\\users\\nayboy\\appdata\\roaming\\python\\python38\\site-packages (from requests->songline) (2.10)\n",
      "Requirement already satisfied: certifi>=2017.4.17 in c:\\users\\nayboy\\appdata\\roaming\\python\\python38\\site-packages (from requests->songline) (2020.12.5)\n",
      "Requirement already satisfied: chardet<5,>=3.0.2 in c:\\users\\nayboy\\appdata\\roaming\\python\\python38\\site-packages (from requests->songline) (4.0.0)\n"
     ]
    },
    {
     "name": "stderr",
     "output_type": "stream",
     "text": [
      "WARNING: You are using pip version 21.1.1; however, version 21.3.1 is available.\n",
      "You should consider upgrading via the 'C:\\ProgramData\\Anaconda3\\python.exe -m pip install --upgrade pip' command.\n"
     ]
    },
    {
     "name": "stdout",
     "output_type": "stream",
     "text": [
      "Requirement already satisfied: jsons in c:\\programdata\\anaconda3\\lib\\site-packages (1.4.2)\n",
      "Requirement already satisfied: typish>=1.9.2 in c:\\programdata\\anaconda3\\lib\\site-packages (from jsons) (1.9.2)\n"
     ]
    },
    {
     "name": "stderr",
     "output_type": "stream",
     "text": [
      "WARNING: You are using pip version 21.1.1; however, version 21.3.1 is available.\n",
      "You should consider upgrading via the 'C:\\ProgramData\\Anaconda3\\python.exe -m pip install --upgrade pip' command.\n"
     ]
    }
   ],
   "source": [
    "\n",
    "!pip install ccxt\n",
    "!pip install schedule\n",
    "!pip install songline\n",
    "!pip install jsons"
   ]
  },
  {
   "cell_type": "code",
   "execution_count": null,
   "metadata": {
    "id": "3COm41d6fEW3"
   },
   "outputs": [],
   "source": []
  },
  {
   "cell_type": "code",
   "execution_count": null,
   "metadata": {
    "id": "0BPT0SY9fEW3"
   },
   "outputs": [],
   "source": []
  }
 ],
 "metadata": {
  "colab": {
   "collapsed_sections": [],
   "name": "shib new.ipynb",
   "provenance": []
  },
  "kernelspec": {
   "display_name": "Python 3",
   "language": "python",
   "name": "python3"
  },
  "language_info": {
   "codemirror_mode": {
    "name": "ipython",
    "version": 3
   },
   "file_extension": ".py",
   "mimetype": "text/x-python",
   "name": "python",
   "nbconvert_exporter": "python",
   "pygments_lexer": "ipython3",
   "version": "3.8.5"
  }
 },
 "nbformat": 4,
 "nbformat_minor": 1
}
